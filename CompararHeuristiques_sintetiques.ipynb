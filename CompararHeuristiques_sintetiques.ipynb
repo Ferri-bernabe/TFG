{
 "cells": [
  {
   "cell_type": "code",
   "execution_count": 1,
   "id": "00f3bd6c",
   "metadata": {},
   "outputs": [],
   "source": [
    "import pickle #will be useful to open the database of transactions\n",
    "from heuristics import Heuristics #class with the heuristics that we will use\n",
    "import comparar"
   ]
  },
  {
   "cell_type": "code",
   "execution_count": 2,
   "id": "85729ee7",
   "metadata": {},
   "outputs": [],
   "source": [
    "with open(\"data_synthetic/complet_tx_synthetic_data.PICKLE\", 'rb') as f:\n",
    "        dades = pickle.load(f)\n",
    "temp = dades\n",
    "HeuristicClass = Heuristics()\n",
    "dades2 = []\n",
    "for trans in temp:\n",
    "    temporal = [trans[0], list(trans[1:])]\n",
    "    dades2.append(temporal)\n",
    "temp = dades2"
   ]
  },
  {
   "cell_type": "code",
   "execution_count": 3,
   "id": "13977db0",
   "metadata": {},
   "outputs": [],
   "source": [
    "with open('data_synthetic/change_ground_truth_synthetic_data.csv', 'r') as file:\n",
    "    lineas = file.readlines()\n",
    "\n",
    "# Separa los valores en cada línea y conviértelos en una lista de tuplas\n",
    "lista_completa = [list(linea.strip().split(',')) for linea in lineas]"
   ]
  },
  {
   "cell_type": "code",
   "execution_count": 4,
   "id": "9a9ba1ae",
   "metadata": {},
   "outputs": [
    {
     "name": "stdout",
     "output_type": "stream",
     "text": [
      "S'han encertat 46 de 81 intents. \n",
      "La mida de la llista es de 10067\n"
     ]
    }
   ],
   "source": [
    "cluster = HeuristicClass.addressTypeCluster(temp)\n",
    "comparar.compararListas(lista_completa, cluster)"
   ]
  },
  {
   "cell_type": "code",
   "execution_count": 5,
   "id": "a57c73e2",
   "metadata": {},
   "outputs": [
    {
     "name": "stdout",
     "output_type": "stream",
     "text": [
      "S'han encertat 1931 de 2229 intents. \n",
      "La mida de la llista es de 10067\n"
     ]
    }
   ],
   "source": [
    "cluster = HeuristicClass.detectionUsingDecimalPlacesCluster(temp)\n",
    "comparar.compararListas(lista_completa, cluster)"
   ]
  },
  {
   "cell_type": "code",
   "execution_count": 6,
   "id": "7f271390",
   "metadata": {},
   "outputs": [
    {
     "name": "stdout",
     "output_type": "stream",
     "text": [
      "S'han encertat 2881 de 3272 intents. \n",
      "La mida de la llista es de 10067\n"
     ]
    }
   ],
   "source": [
    "cluster = HeuristicClass.optimalChangeCluster(temp)\n",
    "comparar.compararListas(lista_completa, cluster)"
   ]
  }
 ],
 "metadata": {
  "kernelspec": {
   "display_name": "Python 3 (ipykernel)",
   "language": "python",
   "name": "python3"
  },
  "language_info": {
   "codemirror_mode": {
    "name": "ipython",
    "version": 3
   },
   "file_extension": ".py",
   "mimetype": "text/x-python",
   "name": "python",
   "nbconvert_exporter": "python",
   "pygments_lexer": "ipython3",
   "version": "3.9.12"
  }
 },
 "nbformat": 4,
 "nbformat_minor": 5
}
