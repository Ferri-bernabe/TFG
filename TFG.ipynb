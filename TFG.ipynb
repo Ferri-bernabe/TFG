{
 "cells": [
  {
   "cell_type": "code",
   "execution_count": 1,
   "id": "814e0c93",
   "metadata": {},
   "outputs": [],
   "source": [
    "#imports\n",
    "import pickle #will be useful to open the database of transactions\n",
    "from heuristics import Heuristics #class with the heuristics that we will use"
   ]
  },
  {
   "cell_type": "code",
   "execution_count": 2,
   "id": "cb268b93",
   "metadata": {},
   "outputs": [],
   "source": [
    "#opening the transactions database\n",
    "with open(\"transactions_details.PICKLE\", 'rb') as f:\n",
    "        dades = pickle.load(f)\n",
    "temp = dades[:1000]"
   ]
  },
  {
   "cell_type": "code",
   "execution_count": 3,
   "id": "5b2d168d",
   "metadata": {},
   "outputs": [
    {
     "data": {
      "text/plain": [
       "'\\nfor transaction in temp:\\n    for inputs in transaction:\\n        if len(inputs) > 1:\\n            print(inputs)\\n'"
      ]
     },
     "execution_count": 3,
     "metadata": {},
     "output_type": "execute_result"
    }
   ],
   "source": [
    "'''\n",
    "for transaction in temp:\n",
    "    for inputs in transaction:\n",
    "        if len(inputs) > 1:\n",
    "            print(inputs)\n",
    "'''"
   ]
  },
  {
   "cell_type": "code",
   "execution_count": 4,
   "id": "79acdbd0",
   "metadata": {},
   "outputs": [
    {
     "name": "stdout",
     "output_type": "stream",
     "text": [
      "['bcrt1qr2l05zecnfncx3rqhjpt93mmnmdrppr7amtvd7', 'bcrt1qdzezkg64s6xkzwdxn83fyyr8lrf75vh64ksgry', 'bcrt1qfetn5g0ymgm4q3j0nyed3lw8rax8w4egc8gdzt', 'bcrt1qwexkctdv80k4na254609secpy2vrp5vl3djy9r', 'bcrt1qf2ud0jtkcx9yr38exyc2fr5hp7564wy3a4kh37', 'bcrt1qemejxxw6rjkcj05t4rw7smslsp5wvcjarlcuy0']\n"
     ]
    }
   ],
   "source": [
    "#loading first heuristic, multiple Inputs\n",
    "HeuristicClass = Heuristics()\n",
    "l = HeuristicClass.multipleInputsForUser('bcrt1qr2l05zecnfncx3rqhjpt93mmnmdrppr7amtvd7',temp)\n",
    "print(l)"
   ]
  },
  {
   "cell_type": "code",
   "execution_count": 5,
   "id": "545c7639",
   "metadata": {},
   "outputs": [
    {
     "name": "stdout",
     "output_type": "stream",
     "text": [
      "992\n"
     ]
    }
   ],
   "source": [
    "l = HeuristicClass.multipleInputsForAll(temp)\n",
    "print(len(l))\n",
    "#print(l)"
   ]
  },
  {
   "cell_type": "code",
   "execution_count": 6,
   "id": "8b4a2daf",
   "metadata": {},
   "outputs": [
    {
     "name": "stdout",
     "output_type": "stream",
     "text": [
      "abc\n"
     ]
    }
   ],
   "source": [
    "l = 'abcdef'\n",
    "print(l[:3])"
   ]
  },
  {
   "cell_type": "code",
   "execution_count": 7,
   "id": "8995d0ce",
   "metadata": {},
   "outputs": [
    {
     "data": {
      "text/plain": [
       "'\\nfor transaction in temp:\\n    print(transaction)\\n'"
      ]
     },
     "execution_count": 7,
     "metadata": {},
     "output_type": "execute_result"
    }
   ],
   "source": [
    "'''\n",
    "for transaction in temp:\n",
    "    print(transaction)\n",
    "'''"
   ]
  },
  {
   "cell_type": "code",
   "execution_count": 8,
   "id": "a0776163",
   "metadata": {},
   "outputs": [
    {
     "name": "stdout",
     "output_type": "stream",
     "text": [
      "bcrt1mqB8M3fLuKJY7kPTe3dSo7DZb5cSPZFjsf\n"
     ]
    }
   ],
   "source": [
    "#trans = [[['a', 50], ['a', 50]], [['c', 70], ['a', 20], ['c', 10]]]\n",
    "#trans = [[['mpqQpTAd49iTEoxHfdmEWk7jHBNmNhhRWk', 50.0]], [['mxJBoeEtzvuns66QgHAUuDxAyz6ow2fLQQ', 5.9999955], ['n22fRgSpZzLPzh4ya9fvQW8bUKau9DHrZU', 44.0]]]\n",
    "trans = [[['bcrt1qr4908ux3kumhws2vjklvypvm5knzy8mwv06xgl', 50.0]], [['bcrt1mqB8M3fLuKJY7kPTe3dSo7DZb5cSPZFjsf', 12.07890706], ['mqoo8Rt7ZkHV8ZNGegBne2pfP8xvgLQZdH', 37.92109]]]\n",
    "\n",
    "l = HeuristicClass.adressTypeForTransaction(trans)\n",
    "print(l)"
   ]
  },
  {
   "cell_type": "code",
   "execution_count": 9,
   "id": "ce8edc90",
   "metadata": {},
   "outputs": [
    {
     "name": "stdout",
     "output_type": "stream",
     "text": [
      "bcrt1q5zayahk9jj2af4dn8pq506wculcfhanjx8qd53\n"
     ]
    }
   ],
   "source": [
    "#detection using decimal places\n",
    "trans = [[['2N3qWAJNyjmkSisB5supEUwHJvD4b7DszQP', 50.0]], [['bcrt1qrphaf708wep9kaypf9lnzlxjl9h2fwt6weh7ed', 5.99999672], ['bcrt1q5zayahk9jj2af4dn8pq506wculcfhanjx8qd53', 44.0]]]\n",
    "#trans = [[['a', 50], ['a', 50]], [['c', 70.1111111], ['a', 20.1], ['c', 10.11]]]\n",
    "l = HeuristicClass.detectionUsingDecimalPlaces(trans)\n",
    "print(l)"
   ]
  },
  {
   "cell_type": "code",
   "execution_count": 10,
   "id": "e759fcb0",
   "metadata": {},
   "outputs": [
    {
     "name": "stdout",
     "output_type": "stream",
     "text": [
      "c\n"
     ]
    }
   ],
   "source": [
    "trans = [[['a', 50], ['b', 40]], [['c', 90]]]\n",
    "l = HeuristicClass.exactPaymentAmmount(trans)\n",
    "print(l)"
   ]
  },
  {
   "cell_type": "code",
   "execution_count": 11,
   "id": "63ac876b",
   "metadata": {},
   "outputs": [
    {
     "name": "stdout",
     "output_type": "stream",
     "text": [
      "d\n"
     ]
    }
   ],
   "source": [
    "transacciones = [[[['a', 50]], [['b',40], ['c', 10]]], [[['a', 30]], [['b', 10], ['d', 20]]], [[['a', 50]], [['b',40], ['d', 10]]]]\n",
    "transaccion = [[['a', 30]], [['b', 10], ['d', 20]]]\n",
    "res = HeuristicClass.addressReuse(transaccion, transacciones)\n",
    "print(res)"
   ]
  },
  {
   "cell_type": "code",
   "execution_count": 12,
   "id": "48af88b1",
   "metadata": {},
   "outputs": [
    {
     "name": "stdout",
     "output_type": "stream",
     "text": [
      "d\n"
     ]
    }
   ],
   "source": [
    "trans = [[['a', 2], ['b', 3]], [['c', 4], ['d', 1]]]\n",
    "res = HeuristicClass.optimalChange(trans)\n",
    "print (res)"
   ]
  },
  {
   "cell_type": "code",
   "execution_count": 13,
   "id": "db3680fc",
   "metadata": {},
   "outputs": [
    {
     "name": "stdout",
     "output_type": "stream",
     "text": [
      "a2\n"
     ]
    }
   ],
   "source": [
    "transacciones = [[[['a1', 50]], [['c1',40], ['a2', 10]]]]\n",
    "transaccion = [[['a1', 50]], [['c1',40], ['a2', 10]]]\n",
    "res = HeuristicClass.tresholdVote(transaccion, transacciones)\n",
    "print(res)"
   ]
  },
  {
   "cell_type": "code",
   "execution_count": 14,
   "id": "e049cc85",
   "metadata": {},
   "outputs": [
    {
     "name": "stdout",
     "output_type": "stream",
     "text": [
      "['bcrt1qr2l05zecnfncx3rqhjpt93mmnmdrppr7amtvd7', 'bcrt1qdzezkg64s6xkzwdxn83fyyr8lrf75vh64ksgry', 'bcrt1qfetn5g0ymgm4q3j0nyed3lw8rax8w4egc8gdzt', 'bcrt1qwexkctdv80k4na254609secpy2vrp5vl3djy9r', 'bcrt1qf2ud0jtkcx9yr38exyc2fr5hp7564wy3a4kh37', 'bcrt1qemejxxw6rjkcj05t4rw7smslsp5wvcjarlcuy0']\n"
     ]
    }
   ],
   "source": [
    "HeuristicClass = Heuristics()\n",
    "l = HeuristicClass.multipleInputsForUserImproved('bcrt1qr2l05zecnfncx3rqhjpt93mmnmdrppr7amtvd7',temp)\n",
    "print(l)"
   ]
  },
  {
   "cell_type": "code",
   "execution_count": 15,
   "id": "b160f3d3",
   "metadata": {},
   "outputs": [
    {
     "name": "stdout",
     "output_type": "stream",
     "text": [
      "891\n"
     ]
    }
   ],
   "source": [
    "HeuristicClass = Heuristics()\n",
    "l = HeuristicClass.clusterizando(temp)\n",
    "print(len(l))\n",
    "#print(l)"
   ]
  },
  {
   "cell_type": "code",
   "execution_count": null,
   "id": "d0a1f318",
   "metadata": {},
   "outputs": [],
   "source": []
  }
 ],
 "metadata": {
  "kernelspec": {
   "display_name": "Python 3 (ipykernel)",
   "language": "python",
   "name": "python3"
  },
  "language_info": {
   "codemirror_mode": {
    "name": "ipython",
    "version": 3
   },
   "file_extension": ".py",
   "mimetype": "text/x-python",
   "name": "python",
   "nbconvert_exporter": "python",
   "pygments_lexer": "ipython3",
   "version": "3.9.12"
  }
 },
 "nbformat": 4,
 "nbformat_minor": 5
}
