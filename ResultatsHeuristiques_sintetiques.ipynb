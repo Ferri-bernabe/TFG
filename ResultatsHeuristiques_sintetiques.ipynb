{
 "cells": [
  {
   "cell_type": "code",
   "execution_count": 1,
   "id": "983c70d0",
   "metadata": {},
   "outputs": [],
   "source": [
    "import pickle #will be useful to open the database of transactions\n",
    "from heuristics import Heuristics #class with the heuristics that we will use"
   ]
  },
  {
   "cell_type": "code",
   "execution_count": 2,
   "id": "0f73a652",
   "metadata": {},
   "outputs": [],
   "source": [
    "with open(\"data_synthetic/complet_tx_synthetic_data.PICKLE\", 'rb') as f:\n",
    "        dades = pickle.load(f)\n",
    "temp = dades\n",
    "HeuristicClass = Heuristics()\n",
    "dades2 = []\n",
    "for trans in temp:\n",
    "    temporal = [trans[0], list(trans[1:])]\n",
    "    dades2.append(temporal)\n",
    "temp = dades2"
   ]
  },
  {
   "cell_type": "code",
   "execution_count": 3,
   "id": "e12a2d8a",
   "metadata": {},
   "outputs": [
    {
     "data": {
      "text/plain": [
       "'\\nfor trans in dades2:\\n    print(trans)\\n'"
      ]
     },
     "execution_count": 3,
     "metadata": {},
     "output_type": "execute_result"
    }
   ],
   "source": [
    "'''\n",
    "for trans in dades2:\n",
    "    print(trans)\n",
    "'''"
   ]
  },
  {
   "cell_type": "code",
   "execution_count": 4,
   "id": "41cd4fea",
   "metadata": {},
   "outputs": [
    {
     "name": "stdout",
     "output_type": "stream",
     "text": [
      "S'han detectat 81 adreçes de canvi de 8845 intents\n"
     ]
    }
   ],
   "source": [
    "res = 0\n",
    "intents = 0\n",
    "for i in range(len(temp)):\n",
    "    l = HeuristicClass.adressTypeForTransaction(temp[i][1])\n",
    "    if l != \"no\":\n",
    "        res += 1\n",
    "    intents += 1\n",
    "print(\"S'han detectat \" + str(res) + \" adreçes de canvi\" + \" de \" + str(intents) + \" intents\")"
   ]
  },
  {
   "cell_type": "code",
   "execution_count": 5,
   "id": "a68e7db9",
   "metadata": {},
   "outputs": [
    {
     "name": "stdout",
     "output_type": "stream",
     "text": [
      "S'han detectat 1931 adreçes de canvi de 8845 intents\n"
     ]
    }
   ],
   "source": [
    "res = 0\n",
    "intents = 0\n",
    "for i in range(len(temp)):\n",
    "    l = HeuristicClass.detectionUsingDecimalPlaces(temp[i][1])\n",
    "    if l != \"no\":\n",
    "        res += 1\n",
    "    intents += 1\n",
    "print(\"S'han detectat \" + str(res) + \" adreçes de canvi\" + \" de \" + str(intents) + \" intents\")"
   ]
  },
  {
   "cell_type": "code",
   "execution_count": 6,
   "id": "e4414664",
   "metadata": {},
   "outputs": [
    {
     "name": "stdout",
     "output_type": "stream",
     "text": [
      "S'han detectat 0 adreçes de canvi de 8845 intents\n"
     ]
    }
   ],
   "source": [
    "res = 0\n",
    "intents = 0\n",
    "for i in range(len(temp)):\n",
    "    l = HeuristicClass.exactPaymentAmmount(temp[i][1])\n",
    "    if l != \"no\":\n",
    "        res += 1\n",
    "    intents += 1\n",
    "print(\"S'han detectat \" + str(res) + \" adreçes de canvi\" + \" de \" + str(intents) + \" intents\")"
   ]
  },
  {
   "cell_type": "code",
   "execution_count": 7,
   "id": "83210abd",
   "metadata": {},
   "outputs": [
    {
     "name": "stdout",
     "output_type": "stream",
     "text": [
      "S'han detectat 2881 adreçes de canvi de 8845 intents\n"
     ]
    }
   ],
   "source": [
    "res = 0\n",
    "intents = 0\n",
    "for i in range(len(temp)):\n",
    "    l = HeuristicClass.optimalChange(temp[i][1])\n",
    "    if l != \"no\":\n",
    "        res += 1\n",
    "    intents += 1\n",
    "print(\"S'han detectat \" + str(res) + \" adreçes de canvi\" + \" de \" + str(intents) + \" intents\")"
   ]
  },
  {
   "cell_type": "code",
   "execution_count": 8,
   "id": "e4b2fbd5",
   "metadata": {},
   "outputs": [
    {
     "name": "stdout",
     "output_type": "stream",
     "text": [
      "S'han detectat 2968 transaccions amb bip69 de 8845 intents\n"
     ]
    }
   ],
   "source": [
    "res = 0\n",
    "intents = 0\n",
    "for i in range(len(temp)):\n",
    "    l = HeuristicClass.bip69(temp[i][1])\n",
    "    if l != \"no bip69\":\n",
    "        res += 1\n",
    "    intents += 1\n",
    "print(\"S'han detectat \" + str(res) + \" transaccions amb bip69\" + \" de \" + str(intents) + \" intents\")"
   ]
  },
  {
   "cell_type": "code",
   "execution_count": 9,
   "id": "2ab12571",
   "metadata": {},
   "outputs": [
    {
     "name": "stdout",
     "output_type": "stream",
     "text": [
      "S'han detectat 0 adreçes de canvi de 8845 intents\n"
     ]
    }
   ],
   "source": [
    "res = 0\n",
    "intents = 0\n",
    "for i in range(len(temp)):\n",
    "    l = HeuristicClass.addressReuse(temp[i][1], temp)\n",
    "    if l != \"no\":\n",
    "        res += 1\n",
    "    intents += 1\n",
    "print(\"S'han detectat \" + str(res) + \" adreçes de canvi\" + \" de \" + str(intents) + \" intents\")"
   ]
  },
  {
   "cell_type": "code",
   "execution_count": 10,
   "id": "8a6030ef",
   "metadata": {},
   "outputs": [
    {
     "name": "stdout",
     "output_type": "stream",
     "text": [
      "S'han detectat 4241 adreçes de canvi de 8845 intents\n"
     ]
    }
   ],
   "source": [
    "res = 0\n",
    "intents = 0\n",
    "for i in range(len(temp)):\n",
    "    l = HeuristicClass.tresholdVote(temp[i][1], temp)\n",
    "    if l != \"no\":\n",
    "        res += 1\n",
    "    intents += 1\n",
    "print(\"S'han detectat \" + str(res) + \" adreçes de canvi\" + \" de \" + str(intents) + \" intents\")"
   ]
  },
  {
   "cell_type": "code",
   "execution_count": 11,
   "id": "51a6f647",
   "metadata": {},
   "outputs": [
    {
     "name": "stdout",
     "output_type": "stream",
     "text": [
      "8789\n"
     ]
    }
   ],
   "source": [
    "l = HeuristicClass.multipleInputsForAll(temp)\n",
    "print(len(l))"
   ]
  },
  {
   "cell_type": "code",
   "execution_count": 12,
   "id": "d599e167",
   "metadata": {},
   "outputs": [
    {
     "name": "stdout",
     "output_type": "stream",
     "text": [
      "8789\n"
     ]
    }
   ],
   "source": [
    "l = HeuristicClass.clusterizando(temp)\n",
    "print(len(l))"
   ]
  },
  {
   "cell_type": "code",
   "execution_count": null,
   "id": "48cb89b5",
   "metadata": {},
   "outputs": [],
   "source": []
  }
 ],
 "metadata": {
  "kernelspec": {
   "display_name": "Python 3 (ipykernel)",
   "language": "python",
   "name": "python3"
  },
  "language_info": {
   "codemirror_mode": {
    "name": "ipython",
    "version": 3
   },
   "file_extension": ".py",
   "mimetype": "text/x-python",
   "name": "python",
   "nbconvert_exporter": "python",
   "pygments_lexer": "ipython3",
   "version": "3.9.12"
  }
 },
 "nbformat": 4,
 "nbformat_minor": 5
}
