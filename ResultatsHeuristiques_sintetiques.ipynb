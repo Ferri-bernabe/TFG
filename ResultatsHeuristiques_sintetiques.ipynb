{
 "cells": [
  {
   "cell_type": "code",
   "execution_count": 1,
   "id": "243fd6fd",
   "metadata": {},
   "outputs": [],
   "source": [
    "import pickle #will be useful to open the database of transactions\n",
    "from heuristics_sintetiques import Heuristics #class with the heuristics that we will use"
   ]
  },
  {
   "cell_type": "code",
   "execution_count": 2,
   "id": "8501a93b",
   "metadata": {},
   "outputs": [],
   "source": [
    "with open(\"transactions_details.PICKLE\", 'rb') as f:\n",
    "        dades = pickle.load(f)\n",
    "temp = dades[:1000]\n",
    "HeuristicClass = Heuristics()"
   ]
  },
  {
   "cell_type": "code",
   "execution_count": 3,
   "id": "b97dd3d0",
   "metadata": {},
   "outputs": [
    {
     "name": "stdout",
     "output_type": "stream",
     "text": [
      "S'han detectat 10 adreçes de canvi de 1000 intents\n"
     ]
    }
   ],
   "source": [
    "res = 0\n",
    "intents = 0\n",
    "for trans in temp:\n",
    "    l = HeuristicClass.adressTypeForTransaction(trans)\n",
    "    if l != \"no\":\n",
    "        res += 1\n",
    "    intents += 1\n",
    "print(\"S'han detectat \" + str(res) + \" adreçes de canvi\" + \" de \" + str(intents) + \" intents\")"
   ]
  },
  {
   "cell_type": "code",
   "execution_count": 4,
   "id": "04b6a916",
   "metadata": {},
   "outputs": [
    {
     "name": "stdout",
     "output_type": "stream",
     "text": [
      "S'han detectat 227 adreçes de canvi de 1000 intents\n"
     ]
    }
   ],
   "source": [
    "res = 0\n",
    "intents = 0\n",
    "for trans in temp:\n",
    "    l = HeuristicClass.detectionUsingDecimalPlaces(trans)\n",
    "    if l != \"no\":\n",
    "        res += 1\n",
    "    intents += 1\n",
    "print(\"S'han detectat \" + str(res) + \" adreçes de canvi\" + \" de \" + str(intents) + \" intents\")"
   ]
  },
  {
   "cell_type": "code",
   "execution_count": 5,
   "id": "98b1a8d7",
   "metadata": {},
   "outputs": [
    {
     "name": "stdout",
     "output_type": "stream",
     "text": [
      "S'han detectat 0 adreçes de canvi de 1000 intents\n"
     ]
    }
   ],
   "source": [
    "res = 0\n",
    "intents = 0\n",
    "for trans in temp:\n",
    "    l = HeuristicClass.exactPaymentAmmount(trans)\n",
    "    if l != \"no\":\n",
    "        res += 1\n",
    "    intents += 1\n",
    "print(\"S'han detectat \" + str(res) + \" adreçes de canvi\" + \" de \" + str(intents) + \" intents\")"
   ]
  },
  {
   "cell_type": "code",
   "execution_count": 6,
   "id": "ba53c987",
   "metadata": {},
   "outputs": [
    {
     "name": "stdout",
     "output_type": "stream",
     "text": [
      "S'han detectat 286 adreçes de canvi de 1000 intents\n"
     ]
    }
   ],
   "source": [
    "res = 0\n",
    "intents = 0\n",
    "for trans in temp:\n",
    "    l = HeuristicClass.optimalChange(trans)\n",
    "    if l != \"no\":\n",
    "        res += 1\n",
    "    intents += 1\n",
    "print(\"S'han detectat \" + str(res) + \" adreçes de canvi\" + \" de \" + str(intents) + \" intents\")"
   ]
  },
  {
   "cell_type": "code",
   "execution_count": 7,
   "id": "d1ed9208",
   "metadata": {},
   "outputs": [
    {
     "name": "stdout",
     "output_type": "stream",
     "text": [
      "S'han detectat 395 transaccions amb bip69 de 1000 intents\n"
     ]
    }
   ],
   "source": [
    "res = 0\n",
    "intents = 0\n",
    "for trans in temp:\n",
    "    l = HeuristicClass.bip69(trans)\n",
    "    if l != \"no bip69\":\n",
    "        res += 1\n",
    "    intents += 1\n",
    "print(\"S'han detectat \" + str(res) + \" transaccions amb bip69\" + \" de \" + str(intents) + \" intents\")"
   ]
  },
  {
   "cell_type": "code",
   "execution_count": 8,
   "id": "8aaa3f3e",
   "metadata": {
    "scrolled": true
   },
   "outputs": [
    {
     "name": "stdout",
     "output_type": "stream",
     "text": [
      "S'han detectat 0 adreçes de canvi de 1000 intents\n"
     ]
    }
   ],
   "source": [
    "res = 0\n",
    "intents = 0\n",
    "for trans in temp:\n",
    "    l = HeuristicClass.addressReuse(trans, temp)\n",
    "    if l != \"no\":\n",
    "        res += 1\n",
    "    intents += 1\n",
    "print(\"S'han detectat \" + str(res) + \" adreçes de canvi\" + \" de \" + str(intents) + \" intents\")"
   ]
  },
  {
   "cell_type": "code",
   "execution_count": 9,
   "id": "684481ae",
   "metadata": {},
   "outputs": [
    {
     "name": "stdout",
     "output_type": "stream",
     "text": [
      "S'han detectat 452 adreçes de canvi de 1000 intents\n"
     ]
    }
   ],
   "source": [
    "res = 0\n",
    "intents = 0\n",
    "for trans in temp:\n",
    "    l = HeuristicClass.tresholdVote(trans, temp)\n",
    "    if l != \"no\":\n",
    "        res += 1\n",
    "    intents += 1\n",
    "print(\"S'han detectat \" + str(res) + \" adreçes de canvi\" + \" de \" + str(intents) + \" intents\")"
   ]
  },
  {
   "cell_type": "code",
   "execution_count": 10,
   "id": "4fec263d",
   "metadata": {},
   "outputs": [
    {
     "name": "stdout",
     "output_type": "stream",
     "text": [
      "992\n"
     ]
    }
   ],
   "source": [
    "l = HeuristicClass.multipleInputsForAll(temp)\n",
    "print(len(l))"
   ]
  },
  {
   "cell_type": "code",
   "execution_count": 11,
   "id": "afd34d60",
   "metadata": {},
   "outputs": [
    {
     "name": "stdout",
     "output_type": "stream",
     "text": [
      "818\n"
     ]
    }
   ],
   "source": [
    "l = HeuristicClass.clusterizando(temp)\n",
    "for clust in l:\n",
    "    if \"1JVyMj5GY2dPqg92d9Cm9DzWJJxPiiCTtW\" in clust:\n",
    "        print(clust)\n",
    "print(len(l))"
   ]
  },
  {
   "cell_type": "code",
   "execution_count": null,
   "id": "2a025701",
   "metadata": {},
   "outputs": [],
   "source": []
  }
 ],
 "metadata": {
  "kernelspec": {
   "display_name": "Python 3 (ipykernel)",
   "language": "python",
   "name": "python3"
  },
  "language_info": {
   "codemirror_mode": {
    "name": "ipython",
    "version": 3
   },
   "file_extension": ".py",
   "mimetype": "text/x-python",
   "name": "python",
   "nbconvert_exporter": "python",
   "pygments_lexer": "ipython3",
   "version": "3.9.12"
  }
 },
 "nbformat": 4,
 "nbformat_minor": 5
}
