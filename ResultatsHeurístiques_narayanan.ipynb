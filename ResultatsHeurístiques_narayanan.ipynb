{
 "cells": [
  {
   "cell_type": "code",
   "execution_count": 1,
   "id": "889832c9",
   "metadata": {},
   "outputs": [],
   "source": [
    "import pickle #will be useful to open the database of transactions\n",
    "from heuristics_narayanan import Heuristics2 #class with the heuristics that we will use"
   ]
  },
  {
   "cell_type": "code",
   "execution_count": 2,
   "id": "666cd003",
   "metadata": {},
   "outputs": [],
   "source": [
    "with open(\"complet_tx_groundtruth_last_10000.PICKLE\", 'rb') as f:\n",
    "        dades = pickle.load(f)\n",
    "temp = dades[:1000]\n",
    "HeuristicClass = Heuristics2()"
   ]
  },
  {
   "cell_type": "code",
   "execution_count": 3,
   "id": "80a16ba1",
   "metadata": {},
   "outputs": [
    {
     "data": {
      "text/plain": [
       "'\\nfor i in range(len(temp)):\\n    print(temp[i][1])\\n'"
      ]
     },
     "execution_count": 3,
     "metadata": {},
     "output_type": "execute_result"
    }
   ],
   "source": [
    "'''\n",
    "for i in range(len(temp)):\n",
    "    print(temp[i][1])\n",
    "'''"
   ]
  },
  {
   "cell_type": "code",
   "execution_count": 4,
   "id": "591c25f1",
   "metadata": {},
   "outputs": [
    {
     "name": "stdout",
     "output_type": "stream",
     "text": [
      "S'han detectat 432 adreçes de canvi de 1000 intents\n"
     ]
    }
   ],
   "source": [
    "res = 0\n",
    "intents = 0\n",
    "for i in range(len(temp)):\n",
    "    l = HeuristicClass.adressTypeForTransaction(temp[i][1])\n",
    "    if l != \"no\":\n",
    "        res += 1\n",
    "    intents += 1\n",
    "print(\"S'han detectat \" + str(res) + \" adreçes de canvi\" + \" de \" + str(intents) + \" intents\")\n"
   ]
  },
  {
   "cell_type": "code",
   "execution_count": 5,
   "id": "f1126a20",
   "metadata": {},
   "outputs": [
    {
     "name": "stdout",
     "output_type": "stream",
     "text": [
      "S'han detectat 58 adreçes de canvi de 1000 intents\n"
     ]
    }
   ],
   "source": [
    "res = 0\n",
    "intents = 0\n",
    "for i in range(len(temp)):\n",
    "    l = HeuristicClass.detectionUsingDecimalPlaces(temp[i][1])\n",
    "    if l != \"no\":\n",
    "        res += 1\n",
    "    intents += 1\n",
    "print(\"S'han detectat \" + str(res) + \" adreçes de canvi\" + \" de \" + str(intents) + \" intents\")\n"
   ]
  },
  {
   "cell_type": "code",
   "execution_count": 6,
   "id": "514c06aa",
   "metadata": {},
   "outputs": [
    {
     "name": "stdout",
     "output_type": "stream",
     "text": [
      "S'han detectat 0 adreçes de canvi de 1000 intents\n"
     ]
    }
   ],
   "source": [
    "res = 0\n",
    "intents = 0\n",
    "for i in range(len(temp)):\n",
    "    l = HeuristicClass.exactPaymentAmmount(temp[i][1])\n",
    "    if l != \"no\":\n",
    "        res += 1\n",
    "    intents += 1\n",
    "print(\"S'han detectat \" + str(res) + \" adreçes de canvi\" + \" de \" + str(intents) + \" intents\")\n"
   ]
  },
  {
   "cell_type": "code",
   "execution_count": 7,
   "id": "dbbc9355",
   "metadata": {},
   "outputs": [
    {
     "name": "stdout",
     "output_type": "stream",
     "text": [
      "S'han detectat 564 adreçes de canvi de 1000 intents\n"
     ]
    }
   ],
   "source": [
    "res = 0\n",
    "intents = 0\n",
    "for i in range(len(temp)):\n",
    "    l = HeuristicClass.optimalChange(temp[i][1])\n",
    "    if l != \"no\":\n",
    "        res += 1\n",
    "    intents += 1\n",
    "print(\"S'han detectat \" + str(res) + \" adreçes de canvi\" + \" de \" + str(intents) + \" intents\")\n"
   ]
  },
  {
   "cell_type": "code",
   "execution_count": 8,
   "id": "6aae9caf",
   "metadata": {},
   "outputs": [
    {
     "name": "stdout",
     "output_type": "stream",
     "text": [
      "S'han detectat 321 transaccions amb bip69 de 1000 intents\n"
     ]
    }
   ],
   "source": [
    "res = 0\n",
    "intents = 0\n",
    "for i in range(len(temp)):\n",
    "    l = HeuristicClass.bip69(temp[i][1])\n",
    "    if l != \"no bip69\":\n",
    "        res += 1\n",
    "    intents += 1\n",
    "print(\"S'han detectat \" + str(res) + \" transaccions amb bip69\" + \" de \" + str(intents) + \" intents\")\n"
   ]
  },
  {
   "cell_type": "code",
   "execution_count": 9,
   "id": "470c9932",
   "metadata": {},
   "outputs": [
    {
     "name": "stdout",
     "output_type": "stream",
     "text": [
      "S'han detectat 262 adreçes de canvi de 1000 intents\n"
     ]
    }
   ],
   "source": [
    "res = 0\n",
    "intents = 0\n",
    "for i in range(len(temp)):\n",
    "    l = HeuristicClass.addressReuse(temp[i][1], temp)\n",
    "    if l != \"no\":\n",
    "        res += 1\n",
    "    intents += 1\n",
    "print(\"S'han detectat \" + str(res) + \" adreçes de canvi\" + \" de \" + str(intents) + \" intents\")\n"
   ]
  },
  {
   "cell_type": "code",
   "execution_count": 10,
   "id": "bc65cf92",
   "metadata": {},
   "outputs": [
    {
     "name": "stdout",
     "output_type": "stream",
     "text": [
      "S'han detectat 660 adreçes de canvi de 1000 intents\n"
     ]
    }
   ],
   "source": [
    "res = 0\n",
    "intents = 0\n",
    "for i in range(len(temp)):\n",
    "    l = HeuristicClass.tresholdVote(temp[i][1], temp)\n",
    "    if l != \"no\":\n",
    "        res += 1\n",
    "    intents += 1\n",
    "print(\"S'han detectat \" + str(res) + \" adreçes de canvi\" + \" de \" + str(intents) + \" intents\")\n"
   ]
  },
  {
   "cell_type": "code",
   "execution_count": 11,
   "id": "71a8080d",
   "metadata": {},
   "outputs": [
    {
     "name": "stdout",
     "output_type": "stream",
     "text": [
      "['1JVyMj5GY2dPqg92d9Cm9DzWJJxPiiCTtW', '1CeXNeox4cYubQqcWV55sEr5YsdbF7VRMg', '1NCSL1q6FnXjPKZG7aV9PcvzDxEawvpfoe', '1LiP3KSeUcRyBzdbj3aAcRBmt7LsgXjiDe', '16B4YrJZ2RJKbWGpyt3DtJrVMfUAx5C6QE', '1HeXn6bqNGJxxS1Q9XeeijjRoCVDWk184j', '1EffBy8rzD7mwYCwTVsW2pJ6P7mq8bqiEN', '16T958yaf51nsTWch781QwtVfEpabmxP9V', '19szaFtm4QxFxHDu3BwSn2PvUKzpJBUMH4', '15xMYgMvVsu7PYmRaoU5xMWJpQkRcC94q4', '189D9gL6PgTvhWDTyjm8uiA4gKcb6MMFVA', '1KUMxj3TmkaPiPqmnrGk6N7PjKvEWkCSUE', '1Lm5k2gBADQfZjnq6N5bG5NTgeYCEen6BN', '1NqdoeKkPM3jKwPCEuLywtTa7ukVu7K7Zg', '1JQJH8h349p1fBiKsTxfJcDC5gUD4YM5yR', '1Ke4yoYqeV1315YVaU3DSHP4zdj3ZreQdu', '1CZohP6hVJrqGQao3KmMa3LnAudaZAwdUb', '1JBPjcmQNwtfUyA7mS3ZAgDfcRfGpgvSxv', '15nNpWwM163ZdF1hYzafHftMejgyXiE25k', '1DCX9xYpTnnJRNRdRxX2J2ZnXxtoZJ71fm', '1JfsKcaEeXUBf75HwJBMeunNP14icFbNNB', '19J7fTzcspsWob7dMLSpzbnRQiSBnJgpmB', '1LQ3r2p9AbiZEqmpcGnZym7z4oeWWm4zva', '194SSX6mdDrSSt1jNc2hZDVXHeQWv1YXGK', '1Lmq7dG4AoJFfgpa3QXedU9LuvE9Jo619q', '17vEwDeN4PRU1zuNvRwNFdCYUt61hBEcHN', '1KZhgNcxb2dhvr4EVMekKBYjusPfCj5zMH', '1CjBcc1LFKHspR5pJ9mHdZ8rBsFBSK5XaS', '1BbfWMbddjCSsw2b9ZfsnhHanN3hKfw9mT', '1MpETZBSCj65sNYCnfcad1CKHw9xyUEYEW', '1AY1SgVQiS71Bv9rs8J8rH9bfXUZJC6T55', '1LnDXhf3KeSCe6hWNVy9KTXK62PwYqJgnB', '197w3XfyskdLTywEAcEDzD52RvrT63vEP2', '1JF7sEcvQqJLFfrZ7ULYhsbGxdZ9XJMpJ5', '1BXydxxxpNyBq8w88DWHqK44ga61tAzJx1', '14zxuVqHAXmyDAHJL7vvFFY9usFEA3nMNC', '1PccVBjwWKA985GvsbFFtkcrozsDqi1U97', '171ZrmmVmgA8bwy4Vsujo1vkAoVqXskAiT', '1NenGsYXdz8yU7dsfTHrUEU3uES8XumfSE', '19Dh8N2EpkE4dg89CX1CEfn8rdKeS47fah', '1DBkGw7EhVL8B6om2tojs1HJ1Cg6rcL7e4', '1Dvq9V15R5maEednZC7rZh97tLD8JnAHs9', '1BP8C2D8SQKMQPG2efM57zAV37tgxDq9yg', '1K9bDG7uHw9KJDRLvZQhNrgbQY7nQHJSwK', '13AfRpgTLYvsvHLcuhNnCmJyjNzpUWDwQ7', '1FFQNCsYLoryYaFNRufW9fQniWqD5oD8bi', '1HJegTdkVYMo8ntn4fccCR8z6t1sSaWttP', '16zLAP6vXifUaRCje36tSQh4K9FTkD6W94', '1P6Nvm5U17LCDWRZ8QJvtaUZLpXSqu8jvf', '1LibqGf79sFsw6Ey9Uyjj1Vpuc6gvtLSux', '1JcgHnHwy2QyKgsyDo3MgyXTJTNqidJMnB', '1DgSrtc4ueejBWHCLhNJ8uQf7PH7QzzGUK', '148eBP48mtaWXPWHhZtXvgA34HprTWYrYe', '1Ma7HKornyifBs1ixns9mCB1CFdYDxqpdz', '16ePfVqe4Vy85CBPFCpLQfd5HEQdYDZ4Af', '1FqLhGDWdPEysX1dKnd89xSGt1h3t2unDe', '181JEonYMghS62rvm8pJUFdHva78Sf5nDi', '1JBtHA3yLmER2YpjrzWQmdEXL9fJ3AxaNk', '1Dvm3wduzJPnVds6mDwgprLZAUipcab9DU', '13hqcFTm1qKkarApknHfLUgeDYRPnWuoUf', '1DdmJs6oAn43E4KdvvXVuNPkv9v2Rd2Tpv', '1GuxHqQXs7516odq9bu26t49AuY5v2E7K1', '1BkMREzj3ovwoiayjEvmJ2uhKS6NESGZrQ', '1BWoWgVifFdWffiypNWKjsS2xqsA48Pjpf', '1EaV6XM17DLnxW1mPEs81aAhKAwTJ4gVQt', '1NvbLHetkJrFkq8LaPw3FaC1QorCoYPBUj', '1ETnYjJD3BNFJqf6BDdLY7iDsvKBkCdDV8', '1ERBU54v3P3CnrHDMAnBhp2EvynrdSYmFV', '1Jrc5Yb3CuF6LAyvYWeSfUTknYfW3Yqe7m', '1FLzBNkNCfFjVh5PTyKPuvRhJffYKLke6u', '1JwJFHZ6RyjKwXdV9nfeUzwBzF4dut97FR', '1NLv5x83zyyHLTGEwveygnStQeXguXrRC3', '1MmLTdvwerj7Cf6C5WX9HNaJiYjmgqGvYh', '1HtR3etd2fT9pEJtduvoFFTA4bhSS31u79']\n"
     ]
    }
   ],
   "source": [
    "l = HeuristicClass.multipleInputsForUserImproved('1JVyMj5GY2dPqg92d9Cm9DzWJJxPiiCTtW',temp)\n",
    "print(l)"
   ]
  },
  {
   "cell_type": "code",
   "execution_count": 12,
   "id": "f3a9cfef",
   "metadata": {},
   "outputs": [
    {
     "name": "stdout",
     "output_type": "stream",
     "text": [
      "811\n"
     ]
    }
   ],
   "source": [
    "l = HeuristicClass.multipleInputsForAll(temp)\n",
    "print(len(l))"
   ]
  },
  {
   "cell_type": "code",
   "execution_count": 13,
   "id": "ac7d45ff",
   "metadata": {},
   "outputs": [
    {
     "name": "stdout",
     "output_type": "stream",
     "text": [
      "['1JVyMj5GY2dPqg92d9Cm9DzWJJxPiiCTtW', '1CeXNeox4cYubQqcWV55sEr5YsdbF7VRMg', '1NCSL1q6FnXjPKZG7aV9PcvzDxEawvpfoe', '1LiP3KSeUcRyBzdbj3aAcRBmt7LsgXjiDe', '16B4YrJZ2RJKbWGpyt3DtJrVMfUAx5C6QE', '1HeXn6bqNGJxxS1Q9XeeijjRoCVDWk184j', '1EffBy8rzD7mwYCwTVsW2pJ6P7mq8bqiEN', '16T958yaf51nsTWch781QwtVfEpabmxP9V', '19szaFtm4QxFxHDu3BwSn2PvUKzpJBUMH4', '15xMYgMvVsu7PYmRaoU5xMWJpQkRcC94q4', '189D9gL6PgTvhWDTyjm8uiA4gKcb6MMFVA', '1KUMxj3TmkaPiPqmnrGk6N7PjKvEWkCSUE', '1Lm5k2gBADQfZjnq6N5bG5NTgeYCEen6BN', '1NqdoeKkPM3jKwPCEuLywtTa7ukVu7K7Zg', '1JQJH8h349p1fBiKsTxfJcDC5gUD4YM5yR', '1Ke4yoYqeV1315YVaU3DSHP4zdj3ZreQdu', '1CZohP6hVJrqGQao3KmMa3LnAudaZAwdUb', '1JBPjcmQNwtfUyA7mS3ZAgDfcRfGpgvSxv', '15nNpWwM163ZdF1hYzafHftMejgyXiE25k', '1DCX9xYpTnnJRNRdRxX2J2ZnXxtoZJ71fm', '1JfsKcaEeXUBf75HwJBMeunNP14icFbNNB', '19J7fTzcspsWob7dMLSpzbnRQiSBnJgpmB', '1LQ3r2p9AbiZEqmpcGnZym7z4oeWWm4zva', '194SSX6mdDrSSt1jNc2hZDVXHeQWv1YXGK', '1Lmq7dG4AoJFfgpa3QXedU9LuvE9Jo619q', '17vEwDeN4PRU1zuNvRwNFdCYUt61hBEcHN', '1KZhgNcxb2dhvr4EVMekKBYjusPfCj5zMH', '1CjBcc1LFKHspR5pJ9mHdZ8rBsFBSK5XaS', '1BbfWMbddjCSsw2b9ZfsnhHanN3hKfw9mT', '1MpETZBSCj65sNYCnfcad1CKHw9xyUEYEW', '1AY1SgVQiS71Bv9rs8J8rH9bfXUZJC6T55', '1LnDXhf3KeSCe6hWNVy9KTXK62PwYqJgnB', '197w3XfyskdLTywEAcEDzD52RvrT63vEP2', '1JF7sEcvQqJLFfrZ7ULYhsbGxdZ9XJMpJ5', '1BXydxxxpNyBq8w88DWHqK44ga61tAzJx1', '14zxuVqHAXmyDAHJL7vvFFY9usFEA3nMNC', '1PccVBjwWKA985GvsbFFtkcrozsDqi1U97', '171ZrmmVmgA8bwy4Vsujo1vkAoVqXskAiT', '1NenGsYXdz8yU7dsfTHrUEU3uES8XumfSE', '19Dh8N2EpkE4dg89CX1CEfn8rdKeS47fah', '1DBkGw7EhVL8B6om2tojs1HJ1Cg6rcL7e4', '1Dvq9V15R5maEednZC7rZh97tLD8JnAHs9', '1BP8C2D8SQKMQPG2efM57zAV37tgxDq9yg', '1K9bDG7uHw9KJDRLvZQhNrgbQY7nQHJSwK', '13AfRpgTLYvsvHLcuhNnCmJyjNzpUWDwQ7', '1FFQNCsYLoryYaFNRufW9fQniWqD5oD8bi', '1HJegTdkVYMo8ntn4fccCR8z6t1sSaWttP', '16zLAP6vXifUaRCje36tSQh4K9FTkD6W94', '1P6Nvm5U17LCDWRZ8QJvtaUZLpXSqu8jvf', '1LibqGf79sFsw6Ey9Uyjj1Vpuc6gvtLSux', '1JcgHnHwy2QyKgsyDo3MgyXTJTNqidJMnB', '1DgSrtc4ueejBWHCLhNJ8uQf7PH7QzzGUK', '148eBP48mtaWXPWHhZtXvgA34HprTWYrYe', '1Ma7HKornyifBs1ixns9mCB1CFdYDxqpdz', '16ePfVqe4Vy85CBPFCpLQfd5HEQdYDZ4Af', '1FqLhGDWdPEysX1dKnd89xSGt1h3t2unDe', '181JEonYMghS62rvm8pJUFdHva78Sf5nDi', '1JBtHA3yLmER2YpjrzWQmdEXL9fJ3AxaNk', '1Dvm3wduzJPnVds6mDwgprLZAUipcab9DU', '13hqcFTm1qKkarApknHfLUgeDYRPnWuoUf', '1DdmJs6oAn43E4KdvvXVuNPkv9v2Rd2Tpv', '1GuxHqQXs7516odq9bu26t49AuY5v2E7K1', '1BkMREzj3ovwoiayjEvmJ2uhKS6NESGZrQ', '1BWoWgVifFdWffiypNWKjsS2xqsA48Pjpf', '1EaV6XM17DLnxW1mPEs81aAhKAwTJ4gVQt', '1NvbLHetkJrFkq8LaPw3FaC1QorCoYPBUj', '1ETnYjJD3BNFJqf6BDdLY7iDsvKBkCdDV8', '1ERBU54v3P3CnrHDMAnBhp2EvynrdSYmFV', '1Jrc5Yb3CuF6LAyvYWeSfUTknYfW3Yqe7m', '1FLzBNkNCfFjVh5PTyKPuvRhJffYKLke6u', '1JwJFHZ6RyjKwXdV9nfeUzwBzF4dut97FR', '1NLv5x83zyyHLTGEwveygnStQeXguXrRC3', '1MmLTdvwerj7Cf6C5WX9HNaJiYjmgqGvYh', '1HtR3etd2fT9pEJtduvoFFTA4bhSS31u79']\n",
      "811\n"
     ]
    }
   ],
   "source": [
    "l = HeuristicClass.clusterizando(temp)\n",
    "for clust in l:\n",
    "    if \"1JVyMj5GY2dPqg92d9Cm9DzWJJxPiiCTtW\" in clust:\n",
    "        print(clust)\n",
    "print(len(l))"
   ]
  },
  {
   "cell_type": "code",
   "execution_count": null,
   "id": "2760e724",
   "metadata": {},
   "outputs": [],
   "source": []
  }
 ],
 "metadata": {
  "kernelspec": {
   "display_name": "Python 3 (ipykernel)",
   "language": "python",
   "name": "python3"
  },
  "language_info": {
   "codemirror_mode": {
    "name": "ipython",
    "version": 3
   },
   "file_extension": ".py",
   "mimetype": "text/x-python",
   "name": "python",
   "nbconvert_exporter": "python",
   "pygments_lexer": "ipython3",
   "version": "3.9.12"
  }
 },
 "nbformat": 4,
 "nbformat_minor": 5
}
