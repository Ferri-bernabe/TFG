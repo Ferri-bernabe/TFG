{
 "cells": [
  {
   "cell_type": "code",
   "execution_count": 1,
   "id": "b47007ae",
   "metadata": {},
   "outputs": [],
   "source": [
    "import pickle #will be useful to open the database of transactions\n",
    "from heuristics import Heuristics #class with the heuristics that we will use\n",
    "import comparar"
   ]
  },
  {
   "cell_type": "code",
   "execution_count": 2,
   "id": "cf8ce941",
   "metadata": {},
   "outputs": [],
   "source": [
    "with open(\"data/complet_tx_groundtruth_last_10000.PICKLE\", 'rb') as f:\n",
    "        dades = pickle.load(f)\n",
    "temp = dades\n",
    "HeuristicClass = Heuristics()"
   ]
  },
  {
   "cell_type": "code",
   "execution_count": 3,
   "id": "269c12d0",
   "metadata": {},
   "outputs": [],
   "source": [
    "# Abre el archivo y lee las líneas\n",
    "with open('data/change-ground-truth-last_10000.csv', 'r') as file:\n",
    "    lineas = file.readlines()\n",
    "\n",
    "# Separa los valores en cada línea y conviértelos en una lista de tuplas\n",
    "lista_completa = [list(linea.strip().split(',')) for linea in lineas]"
   ]
  },
  {
   "cell_type": "code",
   "execution_count": 4,
   "id": "09d37b4e",
   "metadata": {},
   "outputs": [
    {
     "name": "stdout",
     "output_type": "stream",
     "text": [
      "S'han encertat 2968 de 4435 intents. \n",
      "La mida de la llista es de 10000\n"
     ]
    }
   ],
   "source": [
    "cluster = HeuristicClass.addressTypeCluster(temp)\n",
    "comparar.compararListas(lista_completa, cluster)"
   ]
  },
  {
   "cell_type": "code",
   "execution_count": 5,
   "id": "53e91a63",
   "metadata": {},
   "outputs": [
    {
     "name": "stdout",
     "output_type": "stream",
     "text": [
      "S'han encertat 515 de 515 intents. \n",
      "La mida de la llista es de 10000\n"
     ]
    }
   ],
   "source": [
    "cluster = HeuristicClass.detectionUsingDecimalPlacesCluster(temp)\n",
    "comparar.compararListas(lista_completa, cluster)"
   ]
  },
  {
   "cell_type": "code",
   "execution_count": 6,
   "id": "c70adea6",
   "metadata": {},
   "outputs": [
    {
     "name": "stdout",
     "output_type": "stream",
     "text": [
      "S'han encertat 5289 de 5658 intents. \n",
      "La mida de la llista es de 10000\n"
     ]
    }
   ],
   "source": [
    "cluster = HeuristicClass.optimalChangeCluster(temp)\n",
    "comparar.compararListas(lista_completa, cluster)"
   ]
  },
  {
   "cell_type": "code",
   "execution_count": 7,
   "id": "121dfb49",
   "metadata": {},
   "outputs": [
    {
     "name": "stdout",
     "output_type": "stream",
     "text": [
      "S'han encertat 3228 de 3510 intents. \n",
      "La mida de la llista es de 10000\n"
     ]
    }
   ],
   "source": [
    "cluster = HeuristicClass.addressReuseCluster(temp)\n",
    "comparar.compararListas(lista_completa, cluster)"
   ]
  },
  {
   "cell_type": "code",
   "execution_count": 8,
   "id": "154d22d1",
   "metadata": {},
   "outputs": [
    {
     "name": "stdout",
     "output_type": "stream",
     "text": [
      "S'han encertat 6222 de 6858 intents. \n",
      "La mida de la llista es de 10000\n"
     ]
    }
   ],
   "source": [
    "cluster = HeuristicClass.tresholdVoteCluster(temp)\n",
    "comparar.compararListas(lista_completa, cluster)"
   ]
  },
  {
   "cell_type": "code",
   "execution_count": null,
   "id": "ae15f84e",
   "metadata": {},
   "outputs": [],
   "source": []
  }
 ],
 "metadata": {
  "kernelspec": {
   "display_name": "Python 3 (ipykernel)",
   "language": "python",
   "name": "python3"
  },
  "language_info": {
   "codemirror_mode": {
    "name": "ipython",
    "version": 3
   },
   "file_extension": ".py",
   "mimetype": "text/x-python",
   "name": "python",
   "nbconvert_exporter": "python",
   "pygments_lexer": "ipython3",
   "version": "3.9.12"
  }
 },
 "nbformat": 4,
 "nbformat_minor": 5
}
