{
 "cells": [
  {
   "cell_type": "code",
   "execution_count": 1,
   "id": "b47007ae",
   "metadata": {},
   "outputs": [],
   "source": [
    "import pickle #will be useful to open the database of transactions\n",
    "from heuristics_narayanan import Heuristics2 #class with the heuristics that we will use"
   ]
  },
  {
   "cell_type": "code",
   "execution_count": 2,
   "id": "cf8ce941",
   "metadata": {},
   "outputs": [],
   "source": [
    "with open(\"complet_tx_groundtruth_last_10000.PICKLE\", 'rb') as f:\n",
    "        dades = pickle.load(f)\n",
    "temp = dades[:1000]\n",
    "HeuristicClass = Heuristics2()"
   ]
  },
  {
   "cell_type": "code",
   "execution_count": 3,
   "id": "09d37b4e",
   "metadata": {},
   "outputs": [
    {
     "name": "stdout",
     "output_type": "stream",
     "text": [
      "432\n"
     ]
    }
   ],
   "source": [
    "cluster = HeuristicClass.addressTypeCluster(temp)\n",
    "print(len(cluster))"
   ]
  },
  {
   "cell_type": "code",
   "execution_count": 4,
   "id": "53e91a63",
   "metadata": {},
   "outputs": [
    {
     "name": "stdout",
     "output_type": "stream",
     "text": [
      "58\n"
     ]
    }
   ],
   "source": [
    "cluster = HeuristicClass.detectionUsingDecimalPlacesCluster(temp)\n",
    "print(len(cluster))"
   ]
  },
  {
   "cell_type": "code",
   "execution_count": 5,
   "id": "c70adea6",
   "metadata": {},
   "outputs": [
    {
     "name": "stdout",
     "output_type": "stream",
     "text": [
      "564\n"
     ]
    }
   ],
   "source": [
    "cluster = HeuristicClass.optimalChangeCluster(temp)\n",
    "print(len(cluster))"
   ]
  },
  {
   "cell_type": "code",
   "execution_count": null,
   "id": "121dfb49",
   "metadata": {},
   "outputs": [],
   "source": []
  }
 ],
 "metadata": {
  "kernelspec": {
   "display_name": "Python 3 (ipykernel)",
   "language": "python",
   "name": "python3"
  },
  "language_info": {
   "codemirror_mode": {
    "name": "ipython",
    "version": 3
   },
   "file_extension": ".py",
   "mimetype": "text/x-python",
   "name": "python",
   "nbconvert_exporter": "python",
   "pygments_lexer": "ipython3",
   "version": "3.9.12"
  }
 },
 "nbformat": 4,
 "nbformat_minor": 5
}
